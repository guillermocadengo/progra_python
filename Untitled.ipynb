{
  "metadata": {
    "language_info": {
      "codemirror_mode": {
        "name": "python",
        "version": 3
      },
      "file_extension": ".py",
      "mimetype": "text/x-python",
      "name": "python",
      "nbconvert_exporter": "python",
      "pygments_lexer": "ipython3",
      "version": "3.8"
    },
    "kernelspec": {
      "name": "python",
      "display_name": "Python (Pyodide)",
      "language": "python"
    }
  },
  "nbformat_minor": 4,
  "nbformat": 4,
  "cells": [
    {
      "cell_type": "code",
      "source": "from time import sleep\n\nclass Persona:\n    def __init__(self, nombre, edad, altura):\n        self.nombre = nombre\n        self.edad = edad\n        self.altura = altura\n\n    def mostrar_informacion(self):\n        print(f\"Nombre: {self.nombre}\")\n        print(f\"Edad: {self.edad} años\")\n        print(f\"Altura: {self.altura} metros\")\n\n    def calcular_edad_en_dias(self):\n        dias_por_anio = 365\n        edad_en_dias = self.edad * dias_por_anio\n        return edad_en_dias",
      "metadata": {
        "trusted": true
      },
      "execution_count": 1,
      "outputs": []
    },
    {
      "cell_type": "code",
      "source": "",
      "metadata": {},
      "execution_count": null,
      "outputs": []
    }
  ]
}